{
 "cells": [
  {
   "cell_type": "code",
   "execution_count": 149,
   "id": "f4fb427f-773c-4d2e-a20d-1267e7fc11b9",
   "metadata": {},
   "outputs": [],
   "source": [
    "import pandas as pd\n",
    "\n",
    "# Example dictionary with scalar values\n",
    "dict1 = {\n",
    "    'nakul': 'sharma',\n",
    "    'age': 22\n",
    "}\n",
    "\n",
    "# Create DataFrame with an index\n",
    "df = pd.DataFrame(dict1, index=[0])\n"
   ]
  },
  {
   "cell_type": "code",
   "execution_count": 151,
   "id": "dc4d4c81-e4e4-457a-b096-e0afb3cc420c",
   "metadata": {},
   "outputs": [
    {
     "data": {
      "text/html": [
       "<div>\n",
       "<style scoped>\n",
       "    .dataframe tbody tr th:only-of-type {\n",
       "        vertical-align: middle;\n",
       "    }\n",
       "\n",
       "    .dataframe tbody tr th {\n",
       "        vertical-align: top;\n",
       "    }\n",
       "\n",
       "    .dataframe thead th {\n",
       "        text-align: right;\n",
       "    }\n",
       "</style>\n",
       "<table border=\"1\" class=\"dataframe\">\n",
       "  <thead>\n",
       "    <tr style=\"text-align: right;\">\n",
       "      <th></th>\n",
       "      <th>nakul</th>\n",
       "      <th>age</th>\n",
       "    </tr>\n",
       "  </thead>\n",
       "  <tbody>\n",
       "    <tr>\n",
       "      <th>0</th>\n",
       "      <td>sharma</td>\n",
       "      <td>22</td>\n",
       "    </tr>\n",
       "  </tbody>\n",
       "</table>\n",
       "</div>"
      ],
      "text/plain": [
       "    nakul  age\n",
       "0  sharma   22"
      ]
     },
     "execution_count": 151,
     "metadata": {},
     "output_type": "execute_result"
    }
   ],
   "source": [
    "df"
   ]
  },
  {
   "cell_type": "code",
   "execution_count": 166,
   "id": "c2609b6d-3f81-4f6d-8f0d-d44ed696e700",
   "metadata": {},
   "outputs": [
    {
     "ename": "PermissionError",
     "evalue": "[Errno 13] Permission denied: 'C:\\\\Users\\\\snaku\\\\OneDrive\\\\Desktop\\\\python\\\\pandas'",
     "output_type": "error",
     "traceback": [
      "\u001b[1;31m---------------------------------------------\u001b[0m",
      "\u001b[1;31mPermissionError\u001b[0mTraceback (most recent call last)",
      "Cell \u001b[1;32mIn[166], line 1\u001b[0m\n\u001b[1;32m----> 1\u001b[0m harry \u001b[38;5;241m=\u001b[39m pd\u001b[38;5;241m.\u001b[39mread_csv(\u001b[38;5;124m'\u001b[39m\u001b[38;5;124mC:\u001b[39m\u001b[38;5;130;01m\\\\\u001b[39;00m\u001b[38;5;124mUsers\u001b[39m\u001b[38;5;130;01m\\\\\u001b[39;00m\u001b[38;5;124msnaku\u001b[39m\u001b[38;5;130;01m\\\\\u001b[39;00m\u001b[38;5;124mOneDrive\u001b[39m\u001b[38;5;130;01m\\\\\u001b[39;00m\u001b[38;5;124mDesktop\u001b[39m\u001b[38;5;130;01m\\\\\u001b[39;00m\u001b[38;5;124mpython\u001b[39m\u001b[38;5;130;01m\\\\\u001b[39;00m\u001b[38;5;124mpandas\u001b[39m\u001b[38;5;124m'\u001b[39m)\n",
      "File \u001b[1;32m~\\anaconda3\\Lib\\site-packages\\pandas\\io\\parsers\\readers.py:1026\u001b[0m, in \u001b[0;36mread_csv\u001b[1;34m(filepath_or_buffer, sep, delimiter, header, names, index_col, usecols, dtype, engine, converters, true_values, false_values, skipinitialspace, skiprows, skipfooter, nrows, na_values, keep_default_na, na_filter, verbose, skip_blank_lines, parse_dates, infer_datetime_format, keep_date_col, date_parser, date_format, dayfirst, cache_dates, iterator, chunksize, compression, thousands, decimal, lineterminator, quotechar, quoting, doublequote, escapechar, comment, encoding, encoding_errors, dialect, on_bad_lines, delim_whitespace, low_memory, memory_map, float_precision, storage_options, dtype_backend)\u001b[0m\n\u001b[0;32m   1013\u001b[0m kwds_defaults \u001b[38;5;241m=\u001b[39m _refine_defaults_read(\n\u001b[0;32m   1014\u001b[0m     dialect,\n\u001b[0;32m   1015\u001b[0m     delimiter,\n\u001b[1;32m   (...)\u001b[0m\n\u001b[0;32m   1022\u001b[0m     dtype_backend\u001b[38;5;241m=\u001b[39mdtype_backend,\n\u001b[0;32m   1023\u001b[0m )\n\u001b[0;32m   1024\u001b[0m kwds\u001b[38;5;241m.\u001b[39mupdate(kwds_defaults)\n\u001b[1;32m-> 1026\u001b[0m \u001b[38;5;28;01mreturn\u001b[39;00m _read(filepath_or_buffer, kwds)\n",
      "File \u001b[1;32m~\\anaconda3\\Lib\\site-packages\\pandas\\io\\parsers\\readers.py:620\u001b[0m, in \u001b[0;36m_read\u001b[1;34m(filepath_or_buffer, kwds)\u001b[0m\n\u001b[0;32m    617\u001b[0m _validate_names(kwds\u001b[38;5;241m.\u001b[39mget(\u001b[38;5;124m\"\u001b[39m\u001b[38;5;124mnames\u001b[39m\u001b[38;5;124m\"\u001b[39m, \u001b[38;5;28;01mNone\u001b[39;00m))\n\u001b[0;32m    619\u001b[0m \u001b[38;5;66;03m# Create the parser.\u001b[39;00m\n\u001b[1;32m--> 620\u001b[0m parser \u001b[38;5;241m=\u001b[39m TextFileReader(filepath_or_buffer, \u001b[38;5;241m*\u001b[39m\u001b[38;5;241m*\u001b[39mkwds)\n\u001b[0;32m    622\u001b[0m \u001b[38;5;28;01mif\u001b[39;00m chunksize \u001b[38;5;129;01mor\u001b[39;00m iterator:\n\u001b[0;32m    623\u001b[0m     \u001b[38;5;28;01mreturn\u001b[39;00m parser\n",
      "File \u001b[1;32m~\\anaconda3\\Lib\\site-packages\\pandas\\io\\parsers\\readers.py:1620\u001b[0m, in \u001b[0;36mTextFileReader.__init__\u001b[1;34m(self, f, engine, **kwds)\u001b[0m\n\u001b[0;32m   1617\u001b[0m     \u001b[38;5;28mself\u001b[39m\u001b[38;5;241m.\u001b[39moptions[\u001b[38;5;124m\"\u001b[39m\u001b[38;5;124mhas_index_names\u001b[39m\u001b[38;5;124m\"\u001b[39m] \u001b[38;5;241m=\u001b[39m kwds[\u001b[38;5;124m\"\u001b[39m\u001b[38;5;124mhas_index_names\u001b[39m\u001b[38;5;124m\"\u001b[39m]\n\u001b[0;32m   1619\u001b[0m \u001b[38;5;28mself\u001b[39m\u001b[38;5;241m.\u001b[39mhandles: IOHandles \u001b[38;5;241m|\u001b[39m \u001b[38;5;28;01mNone\u001b[39;00m \u001b[38;5;241m=\u001b[39m \u001b[38;5;28;01mNone\u001b[39;00m\n\u001b[1;32m-> 1620\u001b[0m \u001b[38;5;28mself\u001b[39m\u001b[38;5;241m.\u001b[39m_engine \u001b[38;5;241m=\u001b[39m \u001b[38;5;28mself\u001b[39m\u001b[38;5;241m.\u001b[39m_make_engine(f, \u001b[38;5;28mself\u001b[39m\u001b[38;5;241m.\u001b[39mengine)\n",
      "File \u001b[1;32m~\\anaconda3\\Lib\\site-packages\\pandas\\io\\parsers\\readers.py:1880\u001b[0m, in \u001b[0;36mTextFileReader._make_engine\u001b[1;34m(self, f, engine)\u001b[0m\n\u001b[0;32m   1878\u001b[0m     \u001b[38;5;28;01mif\u001b[39;00m \u001b[38;5;124m\"\u001b[39m\u001b[38;5;124mb\u001b[39m\u001b[38;5;124m\"\u001b[39m \u001b[38;5;129;01mnot\u001b[39;00m \u001b[38;5;129;01min\u001b[39;00m mode:\n\u001b[0;32m   1879\u001b[0m         mode \u001b[38;5;241m+\u001b[39m\u001b[38;5;241m=\u001b[39m \u001b[38;5;124m\"\u001b[39m\u001b[38;5;124mb\u001b[39m\u001b[38;5;124m\"\u001b[39m\n\u001b[1;32m-> 1880\u001b[0m \u001b[38;5;28mself\u001b[39m\u001b[38;5;241m.\u001b[39mhandles \u001b[38;5;241m=\u001b[39m get_handle(\n\u001b[0;32m   1881\u001b[0m     f,\n\u001b[0;32m   1882\u001b[0m     mode,\n\u001b[0;32m   1883\u001b[0m     encoding\u001b[38;5;241m=\u001b[39m\u001b[38;5;28mself\u001b[39m\u001b[38;5;241m.\u001b[39moptions\u001b[38;5;241m.\u001b[39mget(\u001b[38;5;124m\"\u001b[39m\u001b[38;5;124mencoding\u001b[39m\u001b[38;5;124m\"\u001b[39m, \u001b[38;5;28;01mNone\u001b[39;00m),\n\u001b[0;32m   1884\u001b[0m     compression\u001b[38;5;241m=\u001b[39m\u001b[38;5;28mself\u001b[39m\u001b[38;5;241m.\u001b[39moptions\u001b[38;5;241m.\u001b[39mget(\u001b[38;5;124m\"\u001b[39m\u001b[38;5;124mcompression\u001b[39m\u001b[38;5;124m\"\u001b[39m, \u001b[38;5;28;01mNone\u001b[39;00m),\n\u001b[0;32m   1885\u001b[0m     memory_map\u001b[38;5;241m=\u001b[39m\u001b[38;5;28mself\u001b[39m\u001b[38;5;241m.\u001b[39moptions\u001b[38;5;241m.\u001b[39mget(\u001b[38;5;124m\"\u001b[39m\u001b[38;5;124mmemory_map\u001b[39m\u001b[38;5;124m\"\u001b[39m, \u001b[38;5;28;01mFalse\u001b[39;00m),\n\u001b[0;32m   1886\u001b[0m     is_text\u001b[38;5;241m=\u001b[39mis_text,\n\u001b[0;32m   1887\u001b[0m     errors\u001b[38;5;241m=\u001b[39m\u001b[38;5;28mself\u001b[39m\u001b[38;5;241m.\u001b[39moptions\u001b[38;5;241m.\u001b[39mget(\u001b[38;5;124m\"\u001b[39m\u001b[38;5;124mencoding_errors\u001b[39m\u001b[38;5;124m\"\u001b[39m, \u001b[38;5;124m\"\u001b[39m\u001b[38;5;124mstrict\u001b[39m\u001b[38;5;124m\"\u001b[39m),\n\u001b[0;32m   1888\u001b[0m     storage_options\u001b[38;5;241m=\u001b[39m\u001b[38;5;28mself\u001b[39m\u001b[38;5;241m.\u001b[39moptions\u001b[38;5;241m.\u001b[39mget(\u001b[38;5;124m\"\u001b[39m\u001b[38;5;124mstorage_options\u001b[39m\u001b[38;5;124m\"\u001b[39m, \u001b[38;5;28;01mNone\u001b[39;00m),\n\u001b[0;32m   1889\u001b[0m )\n\u001b[0;32m   1890\u001b[0m \u001b[38;5;28;01massert\u001b[39;00m \u001b[38;5;28mself\u001b[39m\u001b[38;5;241m.\u001b[39mhandles \u001b[38;5;129;01mis\u001b[39;00m \u001b[38;5;129;01mnot\u001b[39;00m \u001b[38;5;28;01mNone\u001b[39;00m\n\u001b[0;32m   1891\u001b[0m f \u001b[38;5;241m=\u001b[39m \u001b[38;5;28mself\u001b[39m\u001b[38;5;241m.\u001b[39mhandles\u001b[38;5;241m.\u001b[39mhandle\n",
      "File \u001b[1;32m~\\anaconda3\\Lib\\site-packages\\pandas\\io\\common.py:873\u001b[0m, in \u001b[0;36mget_handle\u001b[1;34m(path_or_buf, mode, encoding, compression, memory_map, is_text, errors, storage_options)\u001b[0m\n\u001b[0;32m    868\u001b[0m \u001b[38;5;28;01melif\u001b[39;00m \u001b[38;5;28misinstance\u001b[39m(handle, \u001b[38;5;28mstr\u001b[39m):\n\u001b[0;32m    869\u001b[0m     \u001b[38;5;66;03m# Check whether the filename is to be opened in binary mode.\u001b[39;00m\n\u001b[0;32m    870\u001b[0m     \u001b[38;5;66;03m# Binary mode does not support 'encoding' and 'newline'.\u001b[39;00m\n\u001b[0;32m    871\u001b[0m     \u001b[38;5;28;01mif\u001b[39;00m ioargs\u001b[38;5;241m.\u001b[39mencoding \u001b[38;5;129;01mand\u001b[39;00m \u001b[38;5;124m\"\u001b[39m\u001b[38;5;124mb\u001b[39m\u001b[38;5;124m\"\u001b[39m \u001b[38;5;129;01mnot\u001b[39;00m \u001b[38;5;129;01min\u001b[39;00m ioargs\u001b[38;5;241m.\u001b[39mmode:\n\u001b[0;32m    872\u001b[0m         \u001b[38;5;66;03m# Encoding\u001b[39;00m\n\u001b[1;32m--> 873\u001b[0m         handle \u001b[38;5;241m=\u001b[39m \u001b[38;5;28mopen\u001b[39m(\n\u001b[0;32m    874\u001b[0m             handle,\n\u001b[0;32m    875\u001b[0m             ioargs\u001b[38;5;241m.\u001b[39mmode,\n\u001b[0;32m    876\u001b[0m             encoding\u001b[38;5;241m=\u001b[39mioargs\u001b[38;5;241m.\u001b[39mencoding,\n\u001b[0;32m    877\u001b[0m             errors\u001b[38;5;241m=\u001b[39merrors,\n\u001b[0;32m    878\u001b[0m             newline\u001b[38;5;241m=\u001b[39m\u001b[38;5;124m\"\u001b[39m\u001b[38;5;124m\"\u001b[39m,\n\u001b[0;32m    879\u001b[0m         )\n\u001b[0;32m    880\u001b[0m     \u001b[38;5;28;01melse\u001b[39;00m:\n\u001b[0;32m    881\u001b[0m         \u001b[38;5;66;03m# Binary mode\u001b[39;00m\n\u001b[0;32m    882\u001b[0m         handle \u001b[38;5;241m=\u001b[39m \u001b[38;5;28mopen\u001b[39m(handle, ioargs\u001b[38;5;241m.\u001b[39mmode)\n",
      "\u001b[1;31mPermissionError\u001b[0m: [Errno 13] Permission denied: 'C:\\\\Users\\\\snaku\\\\OneDrive\\\\Desktop\\\\python\\\\pandas'"
     ]
    }
   ],
   "source": [
    "harry = pd.read_csv('world.csv')"
   ]
  },
  {
   "cell_type": "code",
   "execution_count": null,
   "id": "3247e245-1bb2-40a5-becd-f32a9f66a55b",
   "metadata": {},
   "outputs": [],
   "source": [
    "harry.is_null(\n"
   ]
  },
  {
   "cell_type": "code",
   "execution_count": 111,
   "id": "ed757114-e4ec-4bb8-9033-66883762f9f2",
   "metadata": {},
   "outputs": [],
   "source": [
    "d = harry.dropna(axis=0)"
   ]
  },
  {
   "cell_type": "code",
   "execution_count": 113,
   "id": "5816fa94-6498-4da0-9b26-824577e2f034",
   "metadata": {},
   "outputs": [
    {
     "data": {
      "text/plain": [
       "Country Name     0\n",
       "Country Code     0\n",
       "Series Name      0\n",
       "Series Code      0\n",
       "1990 [YR1990]    0\n",
       "2000 [YR2000]    0\n",
       "2014 [YR2014]    0\n",
       "2015 [YR2015]    0\n",
       "2016 [YR2016]    0\n",
       "2017 [YR2017]    0\n",
       "2018 [YR2018]    0\n",
       "2019 [YR2019]    0\n",
       "2020 [YR2020]    0\n",
       "2021 [YR2021]    0\n",
       "2022 [YR2022]    0\n",
       "2023 [YR2023]    0\n",
       "dtype: int64"
      ]
     },
     "execution_count": 113,
     "metadata": {},
     "output_type": "execute_result"
    }
   ],
   "source": [
    "d.isnull().sum()"
   ]
  },
  {
   "cell_type": "code",
   "execution_count": 115,
   "id": "b8ca2ed2-478d-4a43-bd83-8caf861df6ee",
   "metadata": {},
   "outputs": [
    {
     "data": {
      "text/plain": [
       "Index(['Country Name', 'Country Code', 'Series Name', 'Series Code',\n",
       "       '1990 [YR1990]', '2000 [YR2000]', '2014 [YR2014]', '2015 [YR2015]',\n",
       "       '2016 [YR2016]', '2017 [YR2017]', '2018 [YR2018]', '2019 [YR2019]',\n",
       "       '2020 [YR2020]', '2021 [YR2021]', '2022 [YR2022]', '2023 [YR2023]'],\n",
       "      dtype='object')"
      ]
     },
     "execution_count": 115,
     "metadata": {},
     "output_type": "execute_result"
    }
   ],
   "source": [
    "d.columns"
   ]
  },
  {
   "cell_type": "code",
   "execution_count": 117,
   "id": "2cc8d5ea-ad96-491a-b430-2e28b5211971",
   "metadata": {},
   "outputs": [
    {
     "name": "stdout",
     "output_type": "stream",
     "text": [
      "<class 'pandas.core.frame.DataFrame'>\n",
      "Index: 14630 entries, 0 to 14629\n",
      "Data columns (total 16 columns):\n",
      " #   Column         Non-Null Count  Dtype \n",
      "---  ------         --------------  ----- \n",
      " 0   Country Name   14630 non-null  object\n",
      " 1   Country Code   14630 non-null  object\n",
      " 2   Series Name    14630 non-null  object\n",
      " 3   Series Code    14630 non-null  object\n",
      " 4   1990 [YR1990]  14630 non-null  object\n",
      " 5   2000 [YR2000]  14630 non-null  object\n",
      " 6   2014 [YR2014]  14630 non-null  object\n",
      " 7   2015 [YR2015]  14630 non-null  object\n",
      " 8   2016 [YR2016]  14630 non-null  object\n",
      " 9   2017 [YR2017]  14630 non-null  object\n",
      " 10  2018 [YR2018]  14630 non-null  object\n",
      " 11  2019 [YR2019]  14630 non-null  object\n",
      " 12  2020 [YR2020]  14630 non-null  object\n",
      " 13  2021 [YR2021]  14630 non-null  object\n",
      " 14  2022 [YR2022]  14630 non-null  object\n",
      " 15  2023 [YR2023]  14630 non-null  object\n",
      "dtypes: object(16)\n",
      "memory usage: 1.9+ MB\n"
     ]
    }
   ],
   "source": [
    "d.info()"
   ]
  },
  {
   "cell_type": "code",
   "execution_count": 119,
   "id": "a3fcce9e-4ce8-4076-b7cf-5ef77203c3ea",
   "metadata": {},
   "outputs": [
    {
     "data": {
      "text/plain": [
       "Country Name     0\n",
       "Country Code     0\n",
       "Series Name      0\n",
       "Series Code      0\n",
       "1990 [YR1990]    0\n",
       "2000 [YR2000]    0\n",
       "2014 [YR2014]    0\n",
       "2015 [YR2015]    0\n",
       "2016 [YR2016]    0\n",
       "2017 [YR2017]    0\n",
       "2018 [YR2018]    0\n",
       "2019 [YR2019]    0\n",
       "2020 [YR2020]    0\n",
       "2021 [YR2021]    0\n",
       "2022 [YR2022]    0\n",
       "2023 [YR2023]    0\n",
       "dtype: int64"
      ]
     },
     "execution_count": 119,
     "metadata": {},
     "output_type": "execute_result"
    }
   ],
   "source": [
    "d.isnull().sum()"
   ]
  },
  {
   "cell_type": "code",
   "execution_count": 125,
   "id": "7bc9f43f-b16d-4140-a8ff-fa7abc7252ae",
   "metadata": {},
   "outputs": [
    {
     "data": {
      "text/html": [
       "<div>\n",
       "<style scoped>\n",
       "    .dataframe tbody tr th:only-of-type {\n",
       "        vertical-align: middle;\n",
       "    }\n",
       "\n",
       "    .dataframe tbody tr th {\n",
       "        vertical-align: top;\n",
       "    }\n",
       "\n",
       "    .dataframe thead th {\n",
       "        text-align: right;\n",
       "    }\n",
       "</style>\n",
       "<table border=\"1\" class=\"dataframe\">\n",
       "  <thead>\n",
       "    <tr style=\"text-align: right;\">\n",
       "      <th></th>\n",
       "      <th>Country Name</th>\n",
       "      <th>Country Code</th>\n",
       "      <th>Series Name</th>\n",
       "      <th>Series Code</th>\n",
       "      <th>1990 [YR1990]</th>\n",
       "      <th>2000 [YR2000]</th>\n",
       "      <th>2014 [YR2014]</th>\n",
       "      <th>2015 [YR2015]</th>\n",
       "      <th>2016 [YR2016]</th>\n",
       "      <th>2017 [YR2017]</th>\n",
       "      <th>2018 [YR2018]</th>\n",
       "      <th>2019 [YR2019]</th>\n",
       "      <th>2020 [YR2020]</th>\n",
       "      <th>2021 [YR2021]</th>\n",
       "      <th>2022 [YR2022]</th>\n",
       "      <th>2023 [YR2023]</th>\n",
       "    </tr>\n",
       "  </thead>\n",
       "  <tbody>\n",
       "    <tr>\n",
       "      <th>count</th>\n",
       "      <td>14630</td>\n",
       "      <td>14630</td>\n",
       "      <td>14630</td>\n",
       "      <td>14630</td>\n",
       "      <td>14630</td>\n",
       "      <td>14630</td>\n",
       "      <td>14630</td>\n",
       "      <td>14630</td>\n",
       "      <td>14630</td>\n",
       "      <td>14630</td>\n",
       "      <td>14630</td>\n",
       "      <td>14630</td>\n",
       "      <td>14630</td>\n",
       "      <td>14630</td>\n",
       "      <td>14630</td>\n",
       "      <td>14630</td>\n",
       "    </tr>\n",
       "    <tr>\n",
       "      <th>unique</th>\n",
       "      <td>266</td>\n",
       "      <td>266</td>\n",
       "      <td>55</td>\n",
       "      <td>55</td>\n",
       "      <td>8053</td>\n",
       "      <td>9309</td>\n",
       "      <td>10081</td>\n",
       "      <td>9566</td>\n",
       "      <td>9953</td>\n",
       "      <td>9928</td>\n",
       "      <td>9916</td>\n",
       "      <td>9930</td>\n",
       "      <td>9700</td>\n",
       "      <td>9012</td>\n",
       "      <td>7400</td>\n",
       "      <td>3920</td>\n",
       "    </tr>\n",
       "    <tr>\n",
       "      <th>top</th>\n",
       "      <td>Afghanistan</td>\n",
       "      <td>AFG</td>\n",
       "      <td>Population, total</td>\n",
       "      <td>SP.POP.TOTL</td>\n",
       "      <td>..</td>\n",
       "      <td>..</td>\n",
       "      <td>..</td>\n",
       "      <td>..</td>\n",
       "      <td>..</td>\n",
       "      <td>..</td>\n",
       "      <td>..</td>\n",
       "      <td>..</td>\n",
       "      <td>..</td>\n",
       "      <td>..</td>\n",
       "      <td>..</td>\n",
       "      <td>..</td>\n",
       "    </tr>\n",
       "    <tr>\n",
       "      <th>freq</th>\n",
       "      <td>55</td>\n",
       "      <td>55</td>\n",
       "      <td>266</td>\n",
       "      <td>266</td>\n",
       "      <td>5847</td>\n",
       "      <td>4554</td>\n",
       "      <td>3489</td>\n",
       "      <td>3822</td>\n",
       "      <td>3627</td>\n",
       "      <td>3689</td>\n",
       "      <td>3659</td>\n",
       "      <td>3659</td>\n",
       "      <td>4114</td>\n",
       "      <td>4928</td>\n",
       "      <td>6606</td>\n",
       "      <td>10524</td>\n",
       "    </tr>\n",
       "  </tbody>\n",
       "</table>\n",
       "</div>"
      ],
      "text/plain": [
       "       Country Name Country Code        Series Name  Series Code  \\\n",
       "count         14630        14630              14630        14630   \n",
       "unique          266          266                 55           55   \n",
       "top     Afghanistan          AFG  Population, total  SP.POP.TOTL   \n",
       "freq             55           55                266          266   \n",
       "\n",
       "       1990 [YR1990] 2000 [YR2000] 2014 [YR2014] 2015 [YR2015] 2016 [YR2016]  \\\n",
       "count          14630         14630         14630         14630         14630   \n",
       "unique          8053          9309         10081          9566          9953   \n",
       "top               ..            ..            ..            ..            ..   \n",
       "freq            5847          4554          3489          3822          3627   \n",
       "\n",
       "       2017 [YR2017] 2018 [YR2018] 2019 [YR2019] 2020 [YR2020] 2021 [YR2021]  \\\n",
       "count          14630         14630         14630         14630         14630   \n",
       "unique          9928          9916          9930          9700          9012   \n",
       "top               ..            ..            ..            ..            ..   \n",
       "freq            3689          3659          3659          4114          4928   \n",
       "\n",
       "       2022 [YR2022] 2023 [YR2023]  \n",
       "count          14630         14630  \n",
       "unique          7400          3920  \n",
       "top               ..            ..  \n",
       "freq            6606         10524  "
      ]
     },
     "execution_count": 125,
     "metadata": {},
     "output_type": "execute_result"
    }
   ],
   "source": [
    "d.describe()"
   ]
  },
  {
   "cell_type": "code",
   "execution_count": 127,
   "id": "769ef715-31ca-4b97-9b4b-fe4699cba5e2",
   "metadata": {},
   "outputs": [],
   "source": [
    "import matplotlib.pyplot as plt"
   ]
  },
  {
   "cell_type": "code",
   "execution_count": 129,
   "id": "554d7dd6-2e1e-4cd1-9707-0ef090e875fc",
   "metadata": {},
   "outputs": [],
   "source": [
    "a = d['Country Name']"
   ]
  },
  {
   "cell_type": "code",
   "execution_count": 131,
   "id": "1dee5405-3113-43da-8dda-cbfbd55961f8",
   "metadata": {},
   "outputs": [],
   "source": [
    "b = d['Series Name']"
   ]
  },
  {
   "cell_type": "code",
   "execution_count": 139,
   "id": "dee5d810-81bb-4ca2-8235-428dd41877bd",
   "metadata": {},
   "outputs": [
    {
     "data": {
      "image/png": "[encoded data removed]",
      "text/plain": [
       "<Figure size 640x480 with 1 Axes>"
      ]
     },
     "metadata": {},
     "output_type": "display_data"
    }
   ],
   "source": [
    "plt.scatter(a,b)\n",
    "plt.xlabel('X')\n",
    "plt.ylabel('Y')\n",
    "plt.show()"
   ]
  },
  {
   "cell_type": "code",
   "execution_count": 147,
   "id": "eeb26f25-8cfd-443b-9e9a-2749600c9add",
   "metadata": {},
   "outputs": [
    {
     "name": "stdout",
     "output_type": "stream",
     "text": [
      "0        Afghanistan\n",
      "1        Afghanistan\n",
      "2        Afghanistan\n",
      "3        Afghanistan\n",
      "4        Afghanistan\n",
      "            ...     \n",
      "14625          World\n",
      "14626          World\n",
      "14627          World\n",
      "14628          World\n",
      "14629          World\n",
      "Name: Country Name, Length: 14630, dtype: object\n",
      "0        Afghanistan\n",
      "1        Afghanistan\n",
      "2        Afghanistan\n",
      "3        Afghanistan\n",
      "4        Afghanistan\n",
      "            ...     \n",
      "14625          World\n",
      "14626          World\n",
      "14627          World\n",
      "14628          World\n",
      "14629          World\n",
      "Name: Country Name, Length: 14630, dtype: object\n",
      "0        Afghanistan\n",
      "1        Afghanistan\n",
      "2        Afghanistan\n",
      "3        Afghanistan\n",
      "4        Afghanistan\n",
      "            ...     \n",
      "14625          World\n",
      "14626          World\n",
      "14627          World\n",
      "14628          World\n",
      "14629          World\n",
      "Name: Country Name, Length: 14630, dtype: object\n",
      "0        Afghanistan\n",
      "1        Afghanistan\n",
      "2        Afghanistan\n",
      "3        Afghanistan\n",
      "4        Afghanistan\n",
      "            ...     \n",
      "14625          World\n",
      "14626          World\n",
      "14627          World\n",
      "14628          World\n",
      "14629          World\n",
      "Name: Country Name, Length: 14630, dtype: object\n",
      "0        Afghanistan\n",
      "1        Afghanistan\n",
      "2        Afghanistan\n",
      "3        Afghanistan\n",
      "4        Afghanistan\n",
      "            ...     \n",
      "14625          World\n",
      "14626          World\n",
      "14627          World\n",
      "14628          World\n",
      "14629          World\n",
      "Name: Country Name, Length: 14630, dtype: object\n",
      "0        Afghanistan\n",
      "1        Afghanistan\n",
      "2        Afghanistan\n",
      "3        Afghanistan\n",
      "4        Afghanistan\n",
      "            ...     \n",
      "14625          World\n",
      "14626          World\n",
      "14627          World\n",
      "14628          World\n",
      "14629          World\n",
      "Name: Country Name, Length: 14630, dtype: object\n",
      "0        Afghanistan\n",
      "1        Afghanistan\n",
      "2        Afghanistan\n",
      "3        Afghanistan\n",
      "4        Afghanistan\n",
      "            ...     \n",
      "14625          World\n",
      "14626          World\n",
      "14627          World\n",
      "14628          World\n",
      "14629          World\n",
      "Name: Country Name, Length: 14630, dtype: object\n",
      "0        Afghanistan\n",
      "1        Afghanistan\n",
      "2        Afghanistan\n",
      "3        Afghanistan\n",
      "4        Afghanistan\n",
      "            ...     \n",
      "14625          World\n",
      "14626          World\n",
      "14627          World\n",
      "14628          World\n",
      "14629          World\n",
      "Name: Country Name, Length: 14630, dtype: object\n",
      "0        Afghanistan\n",
      "1        Afghanistan\n",
      "2        Afghanistan\n",
      "3        Afghanistan\n",
      "4        Afghanistan\n",
      "            ...     \n",
      "14625          World\n",
      "14626          World\n",
      "14627          World\n",
      "14628          World\n",
      "14629          World\n",
      "Name: Country Name, Length: 14630, dtype: object\n",
      "0        Afghanistan\n",
      "1        Afghanistan\n",
      "2        Afghanistan\n",
      "3        Afghanistan\n",
      "4        Afghanistan\n",
      "            ...     \n",
      "14625          World\n",
      "14626          World\n",
      "14627          World\n",
      "14628          World\n",
      "14629          World\n",
      "Name: Country Name, Length: 14630, dtype: object\n",
      "0        Afghanistan\n",
      "1        Afghanistan\n",
      "2        Afghanistan\n",
      "3        Afghanistan\n",
      "4        Afghanistan\n",
      "            ...     \n",
      "14625          World\n",
      "14626          World\n",
      "14627          World\n",
      "14628          World\n",
      "14629          World\n",
      "Name: Country Name, Length: 14630, dtype: object\n",
      "0        Afghanistan\n",
      "1        Afghanistan\n",
      "2        Afghanistan\n",
      "3        Afghanistan\n",
      "4        Afghanistan\n",
      "            ...     \n",
      "14625          World\n",
      "14626          World\n",
      "14627          World\n",
      "14628          World\n",
      "14629          World\n",
      "Name: Country Name, Length: 14630, dtype: object\n",
      "0        Afghanistan\n",
      "1        Afghanistan\n",
      "2        Afghanistan\n",
      "3        Afghanistan\n",
      "4        Afghanistan\n",
      "            ...     \n",
      "14625          World\n",
      "14626          World\n",
      "14627          World\n",
      "14628          World\n",
      "14629          World\n",
      "Name: Country Name, Length: 14630, dtype: object\n",
      "0        Afghanistan\n",
      "1        Afghanistan\n",
      "2        Afghanistan\n",
      "3        Afghanistan\n",
      "4        Afghanistan\n",
      "            ...     \n",
      "14625          World\n",
      "14626          World\n",
      "14627          World\n",
      "14628          World\n",
      "14629          World\n",
      "Name: Country Name, Length: 14630, dtype: object\n",
      "0        Afghanistan\n",
      "1        Afghanistan\n",
      "2        Afghanistan\n",
      "3        Afghanistan\n",
      "4        Afghanistan\n",
      "            ...     \n",
      "14625          World\n",
      "14626          World\n",
      "14627          World\n",
      "14628          World\n",
      "14629          World\n",
      "Name: Country Name, Length: 14630, dtype: object\n",
      "0        Afghanistan\n",
      "1        Afghanistan\n",
      "2        Afghanistan\n",
      "3        Afghanistan\n",
      "4        Afghanistan\n",
      "            ...     \n",
      "14625          World\n",
      "14626          World\n",
      "14627          World\n",
      "14628          World\n",
      "14629          World\n",
      "Name: Country Name, Length: 14630, dtype: object\n"
     ]
    }
   ],
   "source": []
  },
  {
   "cell_type": "code",
   "execution_count": null,
   "id": "3b193d96-862b-4379-b7b6-02d3877f63cb",
   "metadata": {},
   "outputs": [],
   "source": []
  }
 ],
 "metadata": {
  "kernelspec": {
   "display_name": "Python 3 (ipykernel)",
   "language": "python",
   "name": "python3"
  },
  "language_info": {
   "codemirror_mode": {
    "name": "ipython",
    "version": 3
   },
   "file_extension": ".py",
   "mimetype": "text/x-python",
   "name": "python",
   "nbconvert_exporter": "python",
   "pygments_lexer": "ipython3",
   "version": "3.12.4"
  }
 },
 "nbformat": 4,
 "nbformat_minor": 5
}
